{
 "cells": [
  {
   "cell_type": "code",
   "execution_count": 26,
   "metadata": {},
   "outputs": [],
   "source": [
    "import json\n",
    "from keras_preprocessing.text import tokenizer_from_json\n",
    "import konlpy\n",
    "import re\n",
    "from konlpy.tag import Okt\n",
    "from keras.preprocessing.text import Tokenizer\n",
    "from keras_preprocessing.text import tokenizer_from_json\n",
    "from keras.models import model_from_json\n",
    "import numpy as np\n",
    "from konlpy.tag import Okt\n",
    "from keras.layers import Embedding, Dense, LSTM\n",
    "from keras.models import Sequential\n",
    "from keras.preprocessing.sequence import pad_sequences\n",
    "from tensorflow.keras.models import load_model\n",
    "from keras.callbacks import EarlyStopping, ModelCheckpoint\n",
    "\n",
    "\n",
    "with open(\"model.json\", \"r\") as json_file:\n",
    "    loaded_model_json = json_file.read()\n",
    "\n",
    "loaded_model = model_from_json(loaded_model_json)\n",
    "loaded_model.load_weights(\"best_model.h5\")\n",
    "loaded_model.compile(optimizer='rmsprop', loss='categorical_crossentropy', metrics=['acc'])\n",
    "\n",
    "okt = Okt()\n",
    "\n",
    "stopwords = ['.',',','','의','가', '이', '은', '들', '는', '좀', '잘', '걍', '과', '도', '를','으로', '자', '에', '와', '한', '하다']\n",
    "hangul = re.compile('[^ ㄱ-ㅣ가-힣]+')\n",
    "max_len = 200\n",
    "\n",
    "label=[\"부정\",\"중립\",\"긍정\"]\n",
    "\n",
    "with open('tokenizer.json') as f:\n",
    "    data = json.load(f)\n",
    "    tokenizer = tokenizer_from_json(data)\n",
    "\n",
    "def preprocessing(sentence):\n",
    "    temp_X = okt.morphs(sentence, stem=True) # 토큰화\n",
    "    token_X = []\n",
    "    for word in temp_X:\n",
    "        temp = hangul.sub('',word)\n",
    "        if temp == '' or temp in stopwords:\n",
    "            continue\n",
    "        token_X.append(temp)\n",
    "    encoded = tokenizer.texts_to_sequences([token_X])\n",
    "    pad_new = pad_sequences(encoded, maxlen = max_len)\n",
    "    return pad_new\n",
    "\n",
    "def sentiment_predict(target):\n",
    "    pad_new = preprocessing(target)\n",
    "    score = loaded_model.predict(pad_new) # 예측\n",
    "    return score"
   ]
  },
  {
   "cell_type": "code",
   "execution_count": 31,
   "metadata": {},
   "outputs": [],
   "source": [
    "score = sentiment_predict('지옥 천국 만세 1위 최고 매출 떡상 따상 호재')"
   ]
  },
  {
   "cell_type": "code",
   "execution_count": 33,
   "metadata": {},
   "outputs": [
    {
     "data": {
      "text/plain": [
       "0.006378804"
      ]
     },
     "execution_count": 33,
     "metadata": {},
     "output_type": "execute_result"
    }
   ],
   "source": [
    "score[0][0]"
   ]
  },
  {
   "cell_type": "code",
   "execution_count": null,
   "metadata": {},
   "outputs": [],
   "source": []
  }
 ],
 "metadata": {
  "kernelspec": {
   "display_name": "Python 3",
   "language": "python",
   "name": "python3"
  },
  "language_info": {
   "codemirror_mode": {
    "name": "ipython",
    "version": 3
   },
   "file_extension": ".py",
   "mimetype": "text/x-python",
   "name": "python",
   "nbconvert_exporter": "python",
   "pygments_lexer": "ipython3",
   "version": "3.6.9"
  }
 },
 "nbformat": 4,
 "nbformat_minor": 2
}
